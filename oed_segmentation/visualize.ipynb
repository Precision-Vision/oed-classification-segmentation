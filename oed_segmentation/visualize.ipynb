{
 "cells": [
  {
   "cell_type": "code",
   "execution_count": null,
   "metadata": {},
   "outputs": [],
   "source": [
    "from functions import *"
   ]
  },
  {
   "cell_type": "code",
   "execution_count": null,
   "metadata": {},
   "outputs": [],
   "source": [
    "dataset = LesionDataset(dataset_path, TRAIN_MODE, one_class_mode=one_class_mode, linecolors=linecolors, batch_no=batch_no, downsample=downsample, minimum_size=minimum_size, excluded_classes=excluded_classes)\n",
    "test_dataset_01 = LesionDataset(dataset_path_test_01, TRAIN_MODE, one_class_mode=one_class_mode, linecolors=linecolors, batch_no=batch_no, downsample=downsample, minimum_size=minimum_size, excluded_classes=excluded_classes)\n",
    "test_dataset_02 = LesionDataset(dataset_path_test_02, TRAIN_MODE, one_class_mode=one_class_mode, linecolors=linecolors, batch_no=batch_no, downsample=downsample, minimum_size=minimum_size, excluded_classes=excluded_classes)"
   ]
  },
  {
   "cell_type": "code",
   "execution_count": null,
   "metadata": {},
   "outputs": [],
   "source": [
    "# SPLIT DATASET\n",
    "all_datasets = torch.utils.data.ConcatDataset([dataset, test_dataset_01])\n",
    "train_dataset, validation_dataset = split_data(all_datasets, train_split_ratio, random_val)\n",
    "# test_dataset_01 = split_data(test_dataset_01, [1.0, 0.0], random_val)[0]\n",
    "test_dataset_02 = split_data(test_dataset_02, [1.0, 0.0], random_val)[0]\n",
    "data_loader = torch.utils.data.DataLoader(\n",
    "    train_dataset, batch_size=2, shuffle=True, num_workers=2,\n",
    "    collate_fn=utils.collate_fn)\n",
    "data_loader_validation = torch.utils.data.DataLoader(\n",
    "    validation_dataset, batch_size=1, shuffle=False, num_workers=2,\n",
    "    collate_fn=utils.collate_fn)"
   ]
  },
  {
   "cell_type": "code",
   "execution_count": null,
   "metadata": {},
   "outputs": [],
   "source": [
    "# PLOTTING DATA ANNOTATIONS\n",
    "dataset_to_visualize = train_dataset if TRAIN_MODE else test_dataset_02\n",
    "default_colors = dataset.class_colors\n",
    "colors = {\n",
    "            '1': default_colors['Cancer'] if 'Dysplastic' in dataset.excluded_classes else default_colors['Dysplastic'],\n",
    "            '2': default_colors['Non-dysplastic'],\n",
    "    }\n",
    "if PRE_PLOT:\n",
    "    for idx in dataset_to_visualize.indices[:25]:\n",
    "        print(idx)\n",
    "        img, target = dataset[idx]\n",
    "        display_instance(img, idx, target['masks'], target['labels'], target['boxes'], dataset, colors=colors)\n",
    "else:\n",
    "    print('Skipping pre-plotting...')\n",
    "    idx = 0\n",
    "    img, target = dataset[idx]\n",
    "    display_instance(img, idx, target['masks'], target['labels'], target['boxes'], dataset, colors=colors)"
   ]
  }
 ],
 "metadata": {
  "kernelspec": {
   "display_name": "tia-02",
   "language": "python",
   "name": "python3"
  },
  "language_info": {
   "codemirror_mode": {
    "name": "ipython",
    "version": 3
   },
   "file_extension": ".py",
   "mimetype": "text/x-python",
   "name": "python",
   "nbconvert_exporter": "python",
   "pygments_lexer": "ipython3",
   "version": "3.8.17"
  },
  "orig_nbformat": 4
 },
 "nbformat": 4,
 "nbformat_minor": 2
}
